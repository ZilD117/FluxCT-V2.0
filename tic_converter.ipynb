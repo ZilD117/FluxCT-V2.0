{
 "cells": [
  {
   "cell_type": "code",
   "execution_count": 1,
   "metadata": {},
   "outputs": [],
   "source": [
    "import csv\n",
    "\n",
    "# Specify the input and output file names\n",
    "input_filename = 'test_star_list.csv'\n",
    "output_filename = 'test_star_list_new.csv'\n",
    "\n",
    "# Open the input CSV file for reading and the output file for writing\n",
    "with open(input_filename, newline='') as csvfile_in, open(output_filename, 'w', newline='') as csvfile_out:\n",
    "    reader = csv.reader(csvfile_in)\n",
    "    writer = csv.writer(csvfile_out)\n",
    "    \n",
    "    # Read each row from the input CSV file\n",
    "    for row in reader:\n",
    "        # Add 'TIC_' to the beginning of the first column of each row\n",
    "        row[0] = 'TIC ' + row[0]\n",
    "        # Write the modified row to the output CSV file\n",
    "        writer.writerow(row)\n"
   ]
  },
  {
   "cell_type": "code",
   "execution_count": null,
   "metadata": {},
   "outputs": [],
   "source": [
    "# Open the original file in read mode and a new file in write mode\n",
    "with open('test_star_list.csv', 'r') as read_file, open('modified_file.txt', 'w') as write_file:\n",
    "    # Read each line from the original file\n",
    "    for line in read_file:\n",
    "        # Add 'TIC_' to the beginning of the line\n",
    "        modified_line = 'TIC_' + line\n",
    "        # Write the modified line to the new file\n",
    "        write_file.write(modified_line)"
   ]
  }
 ],
 "metadata": {
  "kernelspec": {
   "display_name": "Python 3",
   "language": "python",
   "name": "python3"
  },
  "language_info": {
   "codemirror_mode": {
    "name": "ipython",
    "version": 3
   },
   "file_extension": ".py",
   "mimetype": "text/x-python",
   "name": "python",
   "nbconvert_exporter": "python",
   "pygments_lexer": "ipython3",
   "version": "3.11.8"
  }
 },
 "nbformat": 4,
 "nbformat_minor": 2
}
